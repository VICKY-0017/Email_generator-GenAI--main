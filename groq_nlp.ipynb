{
 "cells": [
  {
   "cell_type": "code",
   "execution_count": 4,
   "metadata": {},
   "outputs": [
    {
     "name": "stdout",
     "output_type": "stream",
     "text": [
      "While no country has yet successfully landed a human mission on Mars, several countries have sent robotic missions to the planet. Considering low-budget options, some notable examples include:\n",
      "\n",
      "1. **India's Mars Orbiter Mission (Mangalyaan)**: Launched in 2013, Mangalyaan was a low-cost mission that successfully entered Mars' orbit in 2014. The mission cost approximately $74 million, making it one of the most affordable Mars missions to date.\n",
      "\n",
      "2. **China's Tianwen-1**: Launched in 2020, Tianwen-1 is a Mars orbiter and lander mission that successfully entered Mars' orbit in 2021. The mission's estimated cost is around $180 million.\n",
      "\n",
      "3. **United Arab Emirates' Hope Probe**: Launched in 2020, the Hope Probe is a Mars orbiter mission that successfully entered Mars' orbit in 2021. The mission's estimated cost is around $200 million.\n",
      "\n",
      "While these missions are not human missions, they demonstrate that countries with relatively low budgets can still achieve significant milestones in Mars exploration.\n",
      "\n",
      "However, if we consider the first country to successfully land a human mission on Mars with a low budget, that achievement has yet to be accomplished. NASA's Artemis program, for example, aims to return humans to the lunar surface by 2025 and establish a sustainable presence on the Moon. The ultimate goal is to use the Moon as a stepping stone for a manned mission to Mars, but the estimated cost of the Artemis program is around $2.5 billion per year.\n",
      "\n",
      "Private companies like SpaceX and Blue Origin are also working towards establishing a human presence on Mars, but their missions are still in development, and the costs are not publicly disclosed.\n",
      "\n",
      "In summary, while no country has yet achieved a low-budget human mission to Mars, India's Mangalyaan mission and other recent robotic missions demonstrate that countries with relatively low budgets can still make significant contributions to Mars exploration.\n"
     ]
    }
   ],
   "source": [
    "from langchain_groq import ChatGroq\n",
    "\n",
    "llm = ChatGroq(\n",
    "    model=\"llama-3.1-70b-versatile\",\n",
    "    temperature=0,\n",
    "    groq_api_key = \"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\"\n",
    "    # other params...\n",
    ")\n",
    "\n",
    "response = llm.invoke(\"The first country to reach mars with low budget\")\n",
    "print(response.content)"
   ]
  }
 ],
 "metadata": {
  "kernelspec": {
   "display_name": "langchain",
   "language": "python",
   "name": "python3"
  },
  "language_info": {
   "codemirror_mode": {
    "name": "ipython",
    "version": 3
   },
   "file_extension": ".py",
   "mimetype": "text/x-python",
   "name": "python",
   "nbconvert_exporter": "python",
   "pygments_lexer": "ipython3",
   "version": "3.12.4"
  }
 },
 "nbformat": 4,
 "nbformat_minor": 2
}
